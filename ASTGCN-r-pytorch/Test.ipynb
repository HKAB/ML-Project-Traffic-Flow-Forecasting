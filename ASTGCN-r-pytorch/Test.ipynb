{
 "cells": [
  {
   "cell_type": "code",
   "execution_count": 1,
   "id": "e98dc079-5448-4465-83ec-18d6c91344ad",
   "metadata": {},
   "outputs": [],
   "source": [
    "# from model.LSTM_r import make_model\n",
    "# from model.ASTGCN_full_r import make_model\n",
    "# from model.LSTMGC_r import make_model\n",
    "from model.LSTM_full_r import make_model\n",
    "import torch\n",
    "import torch.nn as nn\n",
    "import torch.optim as optim\n",
    "from lib.utils import get_adjacency_matrix\n",
    "import numpy as np"
   ]
  },
  {
   "cell_type": "code",
   "execution_count": 2,
   "id": "0d4eb66c-64f5-4074-b088-a85d6357c478",
   "metadata": {},
   "outputs": [
    {
     "name": "stdout",
     "output_type": "stream",
     "text": [
      "cpu\n"
     ]
    }
   ],
   "source": [
    "DEVICE = torch.device('cpu')\n",
    "print(DEVICE)"
   ]
  },
  {
   "cell_type": "markdown",
   "id": "2edd93c2-4d96-4d32-ac70-37918c9d3f5b",
   "metadata": {
    "jp-MarkdownHeadingCollapsed": true,
    "tags": []
   },
   "source": [
    "## Test LSTM"
   ]
  },
  {
   "cell_type": "code",
   "execution_count": 3,
   "id": "92772b99-d75f-4bd1-a87d-121165155876",
   "metadata": {},
   "outputs": [],
   "source": [
    "model = make_model(DEVICE, 3, 100, 1)"
   ]
  },
  {
   "cell_type": "code",
   "execution_count": 4,
   "id": "82094a08-4947-4b45-b47b-35c50d8fe92e",
   "metadata": {},
   "outputs": [
    {
     "data": {
      "text/plain": [
       "LSTM_submodule(\n",
       "  (lstm): LSTM(3, 100)\n",
       "  (linear): Linear(in_features=100, out_features=1, bias=True)\n",
       ")"
      ]
     },
     "execution_count": 4,
     "metadata": {},
     "output_type": "execute_result"
    }
   ],
   "source": [
    "model"
   ]
  },
  {
   "cell_type": "code",
   "execution_count": 5,
   "id": "a4375aaf-438d-4550-ad0b-184dce9eb42c",
   "metadata": {},
   "outputs": [],
   "source": [
    "X_train = torch.rand((20, 30, 3, 12))\n",
    "y_train = torch.rand((20, 30, 3))"
   ]
  },
  {
   "cell_type": "code",
   "execution_count": 6,
   "id": "7fff06ec-5190-4b61-a42a-6698700a768e",
   "metadata": {},
   "outputs": [],
   "source": [
    "criterion = nn.L1Loss().to(DEVICE)\n",
    "optimizer = optim.Adam(model.parameters(), lr=0.001)"
   ]
  },
  {
   "cell_type": "code",
   "execution_count": 7,
   "id": "21d9a244-f0e4-467b-94c0-a0695ed5fa07",
   "metadata": {},
   "outputs": [],
   "source": [
    "outputs = model(X_train)"
   ]
  },
  {
   "cell_type": "code",
   "execution_count": 8,
   "id": "f005a289-07b0-425b-8909-3be32858c529",
   "metadata": {},
   "outputs": [
    {
     "data": {
      "text/plain": [
       "torch.Size([20, 30, 12])"
      ]
     },
     "execution_count": 8,
     "metadata": {},
     "output_type": "execute_result"
    }
   ],
   "source": [
    "outputs.shape"
   ]
  },
  {
   "cell_type": "markdown",
   "id": "d3a79e66-bd93-4463-a788-e327720b4d98",
   "metadata": {
    "jp-MarkdownHeadingCollapsed": true,
    "tags": []
   },
   "source": [
    "## Test ASTGCN"
   ]
  },
  {
   "cell_type": "code",
   "execution_count": 3,
   "id": "a1283964-8854-47a7-a971-027a7fb2f817",
   "metadata": {},
   "outputs": [],
   "source": [
    "# adj_mx, distance_mx = get_adjacency_matrix('./data/PEMS04/PEMS04.csv', \n",
    "#                                            307, None)"
   ]
  },
  {
   "cell_type": "code",
   "execution_count": 3,
   "id": "c9776f68-3383-4fc8-968b-78f9b7e21be6",
   "metadata": {},
   "outputs": [],
   "source": [
    "adj_mx = np.array(torch.eye(30))"
   ]
  },
  {
   "cell_type": "code",
   "execution_count": null,
   "id": "9f225c19-25dc-421a-a62e-689db6c22239",
   "metadata": {},
   "outputs": [],
   "source": [
    "# DEVICE, nb_block, in_channels, \n",
    "# K, nb_chev_filter, nb_time_filter, \n",
    "# time_strides, adj_mx, num_for_predict, \n",
    "# len_input, num_of_vertices):\n",
    "model = make_model(DEVICE, nb_block=2, in_channels=1, K=3, \n",
    "                  nb_chev_filter=64, nb_time_filter=64, \n",
    "                  time_strides=1, adj_mx=adj_mx, num_for_predict=12, \n",
    "                  len_input=12, num_of_vertices=30)"
   ]
  },
  {
   "cell_type": "code",
   "execution_count": null,
   "id": "956f5cc0-00da-43e3-99b0-9cf11c5ef38c",
   "metadata": {},
   "outputs": [],
   "source": [
    "# (B, N_nodes, F_in, T_in)\n",
    "X_h_train = torch.rand((20, 30, 1, 12))\n",
    "X_d_train = torch.rand((20, 30, 1, 12))\n",
    "X_w_train = torch.rand((20, 30, 1, 12))\n",
    "y_train = torch.rand((20, 30, 1))"
   ]
  },
  {
   "cell_type": "code",
   "execution_count": 23,
   "id": "0ed55414-1b49-470e-9f14-6d73b53f7684",
   "metadata": {},
   "outputs": [],
   "source": [
    "criterion = nn.L1Loss().to(DEVICE)\n",
    "optimizer = optim.Adam(model.parameters(), lr=0.001)"
   ]
  },
  {
   "cell_type": "code",
   "execution_count": 24,
   "id": "58b4b1b2-a862-4c97-beb2-fa1fedb2a33f",
   "metadata": {},
   "outputs": [],
   "source": [
    "outputs = model(X_h_train, X_d_train, X_w_train)"
   ]
  },
  {
   "cell_type": "code",
   "execution_count": 25,
   "id": "4ca9202e-2748-4341-b200-ecbce6639f39",
   "metadata": {},
   "outputs": [
    {
     "data": {
      "text/plain": [
       "torch.Size([20, 30, 12])"
      ]
     },
     "execution_count": 25,
     "metadata": {},
     "output_type": "execute_result"
    }
   ],
   "source": [
    "outputs.shape"
   ]
  },
  {
   "cell_type": "code",
   "execution_count": 40,
   "id": "61afb9cb-6d59-4a86-9b15-434951e579db",
   "metadata": {},
   "outputs": [],
   "source": [
    "a = torch.ones((583, 307, 3, 12))\n",
    "b = torch.ones((583, 307, 3, 12)) + 1\n",
    "c = torch.ones((583, 307, 3, 12)) + 2"
   ]
  },
  {
   "cell_type": "code",
   "execution_count": 41,
   "id": "4a7c2675-67e3-4abc-a175-c22bb621fb16",
   "metadata": {},
   "outputs": [],
   "source": [
    "a = torch.unsqueeze(a, dim=1)\n",
    "b = torch.unsqueeze(b, dim=1)\n",
    "c = torch.unsqueeze(c, dim=1)"
   ]
  },
  {
   "cell_type": "code",
   "execution_count": 42,
   "id": "35b25345-122a-4fef-bcec-3346d4fbe378",
   "metadata": {},
   "outputs": [
    {
     "data": {
      "text/plain": [
       "(torch.Size([583, 1, 307, 3, 12]),\n",
       " torch.Size([583, 1, 307, 3, 12]),\n",
       " torch.Size([583, 1, 307, 3, 12]))"
      ]
     },
     "execution_count": 42,
     "metadata": {},
     "output_type": "execute_result"
    }
   ],
   "source": [
    "a.shape, b.shape, c.shape"
   ]
  },
  {
   "cell_type": "code",
   "execution_count": 47,
   "id": "b53a4b0e-9718-40b4-bb4f-33070459f93c",
   "metadata": {},
   "outputs": [],
   "source": [
    "d = torch.cat([a, b, c], dim=1)"
   ]
  },
  {
   "cell_type": "code",
   "execution_count": null,
   "id": "78549137-9a8c-4b02-849d-d68f65a16697",
   "metadata": {},
   "outputs": [],
   "source": [
    "d[:1, :, :, :]"
   ]
  },
  {
   "cell_type": "markdown",
   "id": "6efdf194-ae15-4411-8d37-85167bcfe53b",
   "metadata": {
    "jp-MarkdownHeadingCollapsed": true,
    "tags": []
   },
   "source": [
    "## LSTMGC"
   ]
  },
  {
   "cell_type": "code",
   "execution_count": 3,
   "id": "f3fb332f-8993-4d39-857b-22d3b35462e6",
   "metadata": {},
   "outputs": [],
   "source": [
    "adj_mx = np.array(torch.ones(30, 30))"
   ]
  },
  {
   "cell_type": "code",
   "execution_count": 4,
   "id": "8aea1dfc-1f17-4f42-b6e1-2473dfd5e389",
   "metadata": {},
   "outputs": [],
   "source": [
    "model = make_model(DEVICE, in_channels=1, out_feat=1, hidden_feat=50, adj_mx=adj_mx, num_for_predict=12, len_input=12, num_of_vertices=30)"
   ]
  },
  {
   "cell_type": "code",
   "execution_count": 5,
   "id": "79456c8b-00b2-48a5-a3ae-6f13a2c5e4ab",
   "metadata": {},
   "outputs": [],
   "source": [
    "X = torch.rand((20, 30, 1, 12))"
   ]
  },
  {
   "cell_type": "code",
   "execution_count": 6,
   "id": "a681bf30-58e6-40bc-bb6c-236ee1905700",
   "metadata": {},
   "outputs": [],
   "source": [
    "criterion = nn.L1Loss().to(DEVICE)\n",
    "optimizer = optim.Adam(model.parameters(), lr=0.001)"
   ]
  },
  {
   "cell_type": "code",
   "execution_count": 8,
   "id": "7e1edae5-f512-4e27-b557-0b9d6deb6c88",
   "metadata": {},
   "outputs": [
    {
     "data": {
      "text/plain": [
       "torch.Size([20, 12, 30, 1])"
      ]
     },
     "execution_count": 8,
     "metadata": {},
     "output_type": "execute_result"
    }
   ],
   "source": [
    "X.shape"
   ]
  },
  {
   "cell_type": "code",
   "execution_count": 9,
   "id": "21a25d50-9a56-4836-bbda-bc4473f1c670",
   "metadata": {},
   "outputs": [
    {
     "name": "stdout",
     "output_type": "stream",
     "text": [
      "torch.Size([30, 20, 12, 1])\n",
      "gcn_out = torch.Size([30, 20, 12, 100])\n",
      "gcn_out = torch.Size([600, 12, 100])\n"
     ]
    }
   ],
   "source": [
    "# (batch_size, input_seq_len, num_nodes, in_feat)\n",
    "outputs = model(X)"
   ]
  },
  {
   "cell_type": "code",
   "execution_count": 10,
   "id": "405522a9-db3f-4262-9dd1-c8d505e93f53",
   "metadata": {},
   "outputs": [
    {
     "data": {
      "text/plain": [
       "torch.Size([20, 30, 12])"
      ]
     },
     "execution_count": 10,
     "metadata": {},
     "output_type": "execute_result"
    }
   ],
   "source": [
    "outputs.shape"
   ]
  },
  {
   "cell_type": "markdown",
   "id": "32f9d357-3744-4416-ba07-a5ea420c5c24",
   "metadata": {
    "jp-MarkdownHeadingCollapsed": true,
    "tags": []
   },
   "source": [
    "## LSTMGC Full"
   ]
  },
  {
   "cell_type": "code",
   "execution_count": 26,
   "id": "46a331f4-0d5c-49b7-8c9d-3856d81ed2ee",
   "metadata": {},
   "outputs": [],
   "source": [
    "adj_mx = np.array(torch.ones(30, 30))"
   ]
  },
  {
   "cell_type": "code",
   "execution_count": 27,
   "id": "791add8c-24e7-4a02-8265-33c26f4c8f1d",
   "metadata": {},
   "outputs": [],
   "source": [
    "model = make_model(DEVICE, in_channels=1, out_feat=1, hidden_feat=50, adj_mx=adj_mx, num_for_predict=12, len_input=12, num_of_vertices=30)"
   ]
  },
  {
   "cell_type": "code",
   "execution_count": 28,
   "id": "d3491cf6-e296-4614-ae59-04eb4f4c2752",
   "metadata": {},
   "outputs": [
    {
     "data": {
      "text/plain": [
       "LSTMGC_full_submodule(\n",
       "  (h_model): LSTMGC_submodule(\n",
       "    (graph_conv): GraphConv()\n",
       "    (lstm): LSTM(100, 50, num_layers=2, batch_first=True)\n",
       "    (dense): Linear(in_features=50, out_features=1, bias=True)\n",
       "  )\n",
       "  (d_model): LSTMGC_submodule(\n",
       "    (graph_conv): GraphConv()\n",
       "    (lstm): LSTM(100, 50, num_layers=2, batch_first=True)\n",
       "    (dense): Linear(in_features=50, out_features=1, bias=True)\n",
       "  )\n",
       "  (w_model): LSTMGC_submodule(\n",
       "    (graph_conv): GraphConv()\n",
       "    (lstm): LSTM(100, 50, num_layers=2, batch_first=True)\n",
       "    (dense): Linear(in_features=50, out_features=1, bias=True)\n",
       "  )\n",
       ")"
      ]
     },
     "execution_count": 28,
     "metadata": {},
     "output_type": "execute_result"
    }
   ],
   "source": [
    "model"
   ]
  },
  {
   "cell_type": "code",
   "execution_count": 29,
   "id": "345afa68-6d3c-4bae-bd78-94a346c6709f",
   "metadata": {},
   "outputs": [],
   "source": [
    "X = torch.rand((20, 3, 30, 1, 12))"
   ]
  },
  {
   "cell_type": "code",
   "execution_count": 30,
   "id": "71be9587-eb8c-4d88-8cdc-1f19a67baebe",
   "metadata": {},
   "outputs": [],
   "source": [
    "criterion = nn.L1Loss().to(DEVICE)\n",
    "optimizer = optim.Adam(model.parameters(), lr=0.001)"
   ]
  },
  {
   "cell_type": "code",
   "execution_count": 31,
   "id": "68515d38-82f5-424b-9614-7670a138b313",
   "metadata": {},
   "outputs": [
    {
     "data": {
      "text/plain": [
       "torch.Size([20, 3, 30, 1, 12])"
      ]
     },
     "execution_count": 31,
     "metadata": {},
     "output_type": "execute_result"
    }
   ],
   "source": [
    "X.shape"
   ]
  },
  {
   "cell_type": "code",
   "execution_count": 35,
   "id": "e93f93aa-5f4e-49a4-a91d-7a939d426b5f",
   "metadata": {},
   "outputs": [],
   "source": [
    "# (batch_size, input_seq_len, num_nodes, in_feat)\n",
    "x1 = X[:, 0, :, :, :].squeeze(dim=1)\n",
    "x2 = X[:, 1, :, :, :].squeeze(dim=1)\n",
    "x3 = X[:, 2, :, :, :].squeeze(dim=1)\n",
    "outputs = model(x1, x2, x3)"
   ]
  },
  {
   "cell_type": "code",
   "execution_count": 36,
   "id": "8e8bccaf-98c8-401f-9244-1d732162da16",
   "metadata": {},
   "outputs": [
    {
     "data": {
      "text/plain": [
       "torch.Size([20, 30, 12])"
      ]
     },
     "execution_count": 36,
     "metadata": {},
     "output_type": "execute_result"
    }
   ],
   "source": [
    "outputs.shape"
   ]
  },
  {
   "cell_type": "markdown",
   "id": "4bd321ff-1a64-4c4f-b395-b316efe0afae",
   "metadata": {
    "tags": []
   },
   "source": [
    "# LSTM Full"
   ]
  },
  {
   "cell_type": "code",
   "execution_count": 4,
   "id": "287540e4-c552-4707-937f-15af1db7d119",
   "metadata": {},
   "outputs": [],
   "source": [
    "adj_mx = np.array(torch.ones(30, 30))"
   ]
  },
  {
   "cell_type": "code",
   "execution_count": 3,
   "id": "892a8e74-74df-4b18-92f1-4b8d8335cb23",
   "metadata": {},
   "outputs": [],
   "source": [
    "model = make_model(DEVICE, 1, 100, 1)"
   ]
  },
  {
   "cell_type": "code",
   "execution_count": 5,
   "id": "60d2b301-9d38-48d9-92fe-5f83a9b1449a",
   "metadata": {},
   "outputs": [
    {
     "data": {
      "text/plain": [
       "LSTM_full_submodule(\n",
       "  (h_model): LSTM_submodule(\n",
       "    (lstm): LSTM(1, 100, num_layers=2)\n",
       "    (linear): Linear(in_features=100, out_features=1, bias=True)\n",
       "    (dropout): Dropout(p=0.2, inplace=False)\n",
       "  )\n",
       "  (d_model): LSTM_submodule(\n",
       "    (lstm): LSTM(1, 100, num_layers=2)\n",
       "    (linear): Linear(in_features=100, out_features=1, bias=True)\n",
       "    (dropout): Dropout(p=0.2, inplace=False)\n",
       "  )\n",
       "  (w_model): LSTM_submodule(\n",
       "    (lstm): LSTM(1, 100, num_layers=2)\n",
       "    (linear): Linear(in_features=100, out_features=1, bias=True)\n",
       "    (dropout): Dropout(p=0.2, inplace=False)\n",
       "  )\n",
       ")"
      ]
     },
     "execution_count": 5,
     "metadata": {},
     "output_type": "execute_result"
    }
   ],
   "source": [
    "model"
   ]
  },
  {
   "cell_type": "code",
   "execution_count": 6,
   "id": "2f9fb7c0-49d3-46a4-a085-846610d81e33",
   "metadata": {},
   "outputs": [],
   "source": [
    "X = torch.rand((20, 3, 30, 1, 12))"
   ]
  },
  {
   "cell_type": "code",
   "execution_count": 7,
   "id": "9c41ef08-baf4-47b5-ae76-f7e588c70cae",
   "metadata": {},
   "outputs": [],
   "source": [
    "criterion = nn.L1Loss().to(DEVICE)\n",
    "optimizer = optim.Adam(model.parameters(), lr=0.001)"
   ]
  },
  {
   "cell_type": "code",
   "execution_count": 8,
   "id": "839ad175-d349-4521-8344-4ea8e48d07ca",
   "metadata": {},
   "outputs": [
    {
     "data": {
      "text/plain": [
       "torch.Size([20, 3, 30, 1, 12])"
      ]
     },
     "execution_count": 8,
     "metadata": {},
     "output_type": "execute_result"
    }
   ],
   "source": [
    "X.shape"
   ]
  },
  {
   "cell_type": "code",
   "execution_count": 10,
   "id": "f70acacf-781b-4a14-a364-fcaa42435398",
   "metadata": {},
   "outputs": [],
   "source": [
    "# (batch_size, input_seq_len, num_nodes, in_feat)\n",
    "x1 = X[:, 0, :, :, :].squeeze(dim=1)\n",
    "x2 = X[:, 1, :, :, :].squeeze(dim=1)\n",
    "x3 = X[:, 2, :, :, :].squeeze(dim=1)\n",
    "outputs = model(x1, x2, x3)"
   ]
  },
  {
   "cell_type": "code",
   "execution_count": 11,
   "id": "837b8267-9de5-4a93-b04c-2f922c28a451",
   "metadata": {},
   "outputs": [
    {
     "data": {
      "text/plain": [
       "torch.Size([20, 30, 12])"
      ]
     },
     "execution_count": 11,
     "metadata": {},
     "output_type": "execute_result"
    }
   ],
   "source": [
    "outputs.shape"
   ]
  },
  {
   "cell_type": "code",
   "execution_count": 66,
   "id": "d3692d14-acbd-47e7-a59c-b6a167b61a3e",
   "metadata": {},
   "outputs": [],
   "source": [
    "import numpy as np"
   ]
  },
  {
   "cell_type": "code",
   "execution_count": 73,
   "id": "230056d2-0fc8-4eda-ad74-cd2a6d4d5ced",
   "metadata": {},
   "outputs": [],
   "source": [
    "data = np.load('output_sensor_1.np')"
   ]
  },
  {
   "cell_type": "code",
   "execution_count": 74,
   "id": "aec2ad7c-67dc-4ddd-91f4-b35330fffb2f",
   "metadata": {},
   "outputs": [
    {
     "data": {
      "text/plain": [
       "array([[-0.50567242, -0.6130106 , -0.46147435, -0.46778836, -0.3099381 ,\n",
       "        -0.41727627, -0.26574002, -0.27205404, -0.11420378, -0.22154195,\n",
       "        -0.0700057 , -0.07631971],\n",
       "       [-0.66983669, -0.51830044, -0.52461445, -0.42359028, -0.53092846,\n",
       "        -0.37939221, -0.38570622, -0.28468206, -0.39202023, -0.24048398,\n",
       "        -0.24679799, -0.14577383],\n",
       "       [-0.46778836, -0.47410237, -0.3730782 , -0.4299043 , -0.27836805,\n",
       "        -0.28468206, -0.18365789, -0.24048398, -0.08894773, -0.09526174,\n",
       "         0.00576242, -0.05106367],\n",
       "       [-0.44172191, -0.38935418, -0.48416295, -0.26756696, -0.35935667,\n",
       "        -0.32505741, -0.43397096, -0.22838558, -0.32877052, -0.30118093,\n",
       "        -0.41533227, -0.21383566],\n",
       "       [-0.13945982, -0.19628591,  0.04996049,  0.18255471,  0.28357888,\n",
       "         0.22675279,  0.47299919,  0.60559341,  0.70661758,  0.64979148,\n",
       "         0.89603789,  1.02863211],\n",
       "       [-0.17102987,  0.07521654,  0.20781075,  0.33409096,  0.27726487,\n",
       "         0.52351127,  0.65610549,  0.7823857 ,  0.72555961,  0.97180601,\n",
       "         1.10440023,  1.23068044],\n",
       "       [ 0.1131006 ,  0.24569482,  0.37197502,  0.35303299,  0.5992794 ,\n",
       "         0.73187362,  0.85815382,  0.83921179,  1.0854582 ,  1.21805242,\n",
       "         1.34433263,  1.32539059],\n",
       "       [ 0.03101846,  0.15729867,  0.13835664,  0.16992669,  0.30252091,\n",
       "         0.42880112,  0.40985909,  0.44142914,  0.57402336,  0.70030357,\n",
       "         0.68136153,  0.71293159],\n",
       "       [-0.02151122, -0.06510736, -0.05163398, -0.07754537,  0.00539688,\n",
       "        -0.04535619, -0.03713618, -0.06690365,  0.01320815, -0.03962255,\n",
       "        -0.03292755, -0.06381443],\n",
       "       [-0.02225897, -0.02043418, -0.05482833,  0.08078053,  0.00953419,\n",
       "         0.00283051, -0.03780437,  0.09323783,  0.01864984,  0.0095009 ,\n",
       "        -0.0329233 ,  0.09680956]])"
      ]
     },
     "execution_count": 74,
     "metadata": {},
     "output_type": "execute_result"
    }
   ],
   "source": [
    "data"
   ]
  }
 ],
 "metadata": {
  "kernelspec": {
   "display_name": "Python 3 (ipykernel)",
   "language": "python",
   "name": "python3"
  },
  "language_info": {
   "codemirror_mode": {
    "name": "ipython",
    "version": 3
   },
   "file_extension": ".py",
   "mimetype": "text/x-python",
   "name": "python",
   "nbconvert_exporter": "python",
   "pygments_lexer": "ipython3",
   "version": "3.9.12"
  }
 },
 "nbformat": 4,
 "nbformat_minor": 5
}
