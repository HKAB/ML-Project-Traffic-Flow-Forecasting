{
 "cells": [
  {
   "cell_type": "code",
   "execution_count": 25,
   "id": "e98dc079-5448-4465-83ec-18d6c91344ad",
   "metadata": {},
   "outputs": [],
   "source": [
    "# from model.LSTM_r import make_model\n",
    "# from model.ASTGCN_full_r import make_model\n",
    "# from model.LSTMGC_r import make_model\n",
    "from model.LSTMGC_full_r import make_model\n",
    "import torch\n",
    "import torch.nn as nn\n",
    "import torch.optim as optim\n",
    "from lib.utils import get_adjacency_matrix\n",
    "import numpy as np"
   ]
  },
  {
   "cell_type": "code",
   "execution_count": 13,
   "id": "0d4eb66c-64f5-4074-b088-a85d6357c478",
   "metadata": {},
   "outputs": [
    {
     "name": "stdout",
     "output_type": "stream",
     "text": [
      "cpu\n"
     ]
    }
   ],
   "source": [
    "DEVICE = torch.device('cpu')\n",
    "print(DEVICE)"
   ]
  },
  {
   "cell_type": "markdown",
   "id": "2edd93c2-4d96-4d32-ac70-37918c9d3f5b",
   "metadata": {
    "jp-MarkdownHeadingCollapsed": true,
    "tags": []
   },
   "source": [
    "## Test LSTM"
   ]
  },
  {
   "cell_type": "code",
   "execution_count": 3,
   "id": "92772b99-d75f-4bd1-a87d-121165155876",
   "metadata": {},
   "outputs": [],
   "source": [
    "model = make_model(DEVICE, 3, 100, 1)"
   ]
  },
  {
   "cell_type": "code",
   "execution_count": 4,
   "id": "82094a08-4947-4b45-b47b-35c50d8fe92e",
   "metadata": {},
   "outputs": [
    {
     "data": {
      "text/plain": [
       "LSTM_submodule(\n",
       "  (lstm): LSTM(3, 100)\n",
       "  (linear): Linear(in_features=100, out_features=1, bias=True)\n",
       ")"
      ]
     },
     "execution_count": 4,
     "metadata": {},
     "output_type": "execute_result"
    }
   ],
   "source": [
    "model"
   ]
  },
  {
   "cell_type": "code",
   "execution_count": 5,
   "id": "a4375aaf-438d-4550-ad0b-184dce9eb42c",
   "metadata": {},
   "outputs": [],
   "source": [
    "X_train = torch.rand((20, 30, 3, 12))\n",
    "y_train = torch.rand((20, 30, 3))"
   ]
  },
  {
   "cell_type": "code",
   "execution_count": 6,
   "id": "7fff06ec-5190-4b61-a42a-6698700a768e",
   "metadata": {},
   "outputs": [],
   "source": [
    "criterion = nn.L1Loss().to(DEVICE)\n",
    "optimizer = optim.Adam(model.parameters(), lr=0.001)"
   ]
  },
  {
   "cell_type": "code",
   "execution_count": 7,
   "id": "21d9a244-f0e4-467b-94c0-a0695ed5fa07",
   "metadata": {},
   "outputs": [],
   "source": [
    "outputs = model(X_train)"
   ]
  },
  {
   "cell_type": "code",
   "execution_count": 8,
   "id": "f005a289-07b0-425b-8909-3be32858c529",
   "metadata": {},
   "outputs": [
    {
     "data": {
      "text/plain": [
       "torch.Size([20, 30, 12])"
      ]
     },
     "execution_count": 8,
     "metadata": {},
     "output_type": "execute_result"
    }
   ],
   "source": [
    "outputs.shape"
   ]
  },
  {
   "cell_type": "markdown",
   "id": "d3a79e66-bd93-4463-a788-e327720b4d98",
   "metadata": {
    "tags": []
   },
   "source": [
    "## Test ASTGCN"
   ]
  },
  {
   "cell_type": "code",
   "execution_count": 3,
   "id": "a1283964-8854-47a7-a971-027a7fb2f817",
   "metadata": {},
   "outputs": [],
   "source": [
    "# adj_mx, distance_mx = get_adjacency_matrix('./data/PEMS04/PEMS04.csv', \n",
    "#                                            307, None)"
   ]
  },
  {
   "cell_type": "code",
   "execution_count": 3,
   "id": "c9776f68-3383-4fc8-968b-78f9b7e21be6",
   "metadata": {},
   "outputs": [],
   "source": [
    "adj_mx = np.array(torch.eye(30))"
   ]
  },
  {
   "cell_type": "code",
   "execution_count": null,
   "id": "9f225c19-25dc-421a-a62e-689db6c22239",
   "metadata": {},
   "outputs": [],
   "source": [
    "# DEVICE, nb_block, in_channels, \n",
    "# K, nb_chev_filter, nb_time_filter, \n",
    "# time_strides, adj_mx, num_for_predict, \n",
    "# len_input, num_of_vertices):\n",
    "model = make_model(DEVICE, nb_block=2, in_channels=1, K=3, \n",
    "                  nb_chev_filter=64, nb_time_filter=64, \n",
    "                  time_strides=1, adj_mx=adj_mx, num_for_predict=12, \n",
    "                  len_input=12, num_of_vertices=30)"
   ]
  },
  {
   "cell_type": "code",
   "execution_count": null,
   "id": "956f5cc0-00da-43e3-99b0-9cf11c5ef38c",
   "metadata": {},
   "outputs": [],
   "source": [
    "# (B, N_nodes, F_in, T_in)\n",
    "X_h_train = torch.rand((20, 30, 1, 12))\n",
    "X_d_train = torch.rand((20, 30, 1, 12))\n",
    "X_w_train = torch.rand((20, 30, 1, 12))\n",
    "y_train = torch.rand((20, 30, 1))"
   ]
  },
  {
   "cell_type": "code",
   "execution_count": 23,
   "id": "0ed55414-1b49-470e-9f14-6d73b53f7684",
   "metadata": {},
   "outputs": [],
   "source": [
    "criterion = nn.L1Loss().to(DEVICE)\n",
    "optimizer = optim.Adam(model.parameters(), lr=0.001)"
   ]
  },
  {
   "cell_type": "code",
   "execution_count": 24,
   "id": "58b4b1b2-a862-4c97-beb2-fa1fedb2a33f",
   "metadata": {},
   "outputs": [],
   "source": [
    "outputs = model(X_h_train, X_d_train, X_w_train)"
   ]
  },
  {
   "cell_type": "code",
   "execution_count": 25,
   "id": "4ca9202e-2748-4341-b200-ecbce6639f39",
   "metadata": {},
   "outputs": [
    {
     "data": {
      "text/plain": [
       "torch.Size([20, 30, 12])"
      ]
     },
     "execution_count": 25,
     "metadata": {},
     "output_type": "execute_result"
    }
   ],
   "source": [
    "outputs.shape"
   ]
  },
  {
   "cell_type": "code",
   "execution_count": 40,
   "id": "61afb9cb-6d59-4a86-9b15-434951e579db",
   "metadata": {},
   "outputs": [],
   "source": [
    "a = torch.ones((583, 307, 3, 12))\n",
    "b = torch.ones((583, 307, 3, 12)) + 1\n",
    "c = torch.ones((583, 307, 3, 12)) + 2"
   ]
  },
  {
   "cell_type": "code",
   "execution_count": 41,
   "id": "4a7c2675-67e3-4abc-a175-c22bb621fb16",
   "metadata": {},
   "outputs": [],
   "source": [
    "a = torch.unsqueeze(a, dim=1)\n",
    "b = torch.unsqueeze(b, dim=1)\n",
    "c = torch.unsqueeze(c, dim=1)"
   ]
  },
  {
   "cell_type": "code",
   "execution_count": 42,
   "id": "35b25345-122a-4fef-bcec-3346d4fbe378",
   "metadata": {},
   "outputs": [
    {
     "data": {
      "text/plain": [
       "(torch.Size([583, 1, 307, 3, 12]),\n",
       " torch.Size([583, 1, 307, 3, 12]),\n",
       " torch.Size([583, 1, 307, 3, 12]))"
      ]
     },
     "execution_count": 42,
     "metadata": {},
     "output_type": "execute_result"
    }
   ],
   "source": [
    "a.shape, b.shape, c.shape"
   ]
  },
  {
   "cell_type": "code",
   "execution_count": 47,
   "id": "b53a4b0e-9718-40b4-bb4f-33070459f93c",
   "metadata": {},
   "outputs": [],
   "source": [
    "d = torch.cat([a, b, c], dim=1)"
   ]
  },
  {
   "cell_type": "code",
   "execution_count": null,
   "id": "78549137-9a8c-4b02-849d-d68f65a16697",
   "metadata": {},
   "outputs": [],
   "source": [
    "d[:1, :, :, :]"
   ]
  },
  {
   "cell_type": "markdown",
   "id": "6efdf194-ae15-4411-8d37-85167bcfe53b",
   "metadata": {},
   "source": [
    "## LSTMGC"
   ]
  },
  {
   "cell_type": "code",
   "execution_count": 3,
   "id": "f3fb332f-8993-4d39-857b-22d3b35462e6",
   "metadata": {},
   "outputs": [],
   "source": [
    "adj_mx = np.array(torch.ones(30, 30))"
   ]
  },
  {
   "cell_type": "code",
   "execution_count": 4,
   "id": "8aea1dfc-1f17-4f42-b6e1-2473dfd5e389",
   "metadata": {},
   "outputs": [],
   "source": [
    "model = make_model(DEVICE, in_channels=1, out_feat=1, hidden_feat=50, adj_mx=adj_mx, num_for_predict=12, len_input=12, num_of_vertices=30)"
   ]
  },
  {
   "cell_type": "code",
   "execution_count": 5,
   "id": "79456c8b-00b2-48a5-a3ae-6f13a2c5e4ab",
   "metadata": {},
   "outputs": [],
   "source": [
    "X = torch.rand((20, 30, 1, 12))"
   ]
  },
  {
   "cell_type": "code",
   "execution_count": 6,
   "id": "a681bf30-58e6-40bc-bb6c-236ee1905700",
   "metadata": {},
   "outputs": [],
   "source": [
    "criterion = nn.L1Loss().to(DEVICE)\n",
    "optimizer = optim.Adam(model.parameters(), lr=0.001)"
   ]
  },
  {
   "cell_type": "code",
   "execution_count": 8,
   "id": "7e1edae5-f512-4e27-b557-0b9d6deb6c88",
   "metadata": {},
   "outputs": [
    {
     "data": {
      "text/plain": [
       "torch.Size([20, 12, 30, 1])"
      ]
     },
     "execution_count": 8,
     "metadata": {},
     "output_type": "execute_result"
    }
   ],
   "source": [
    "X.shape"
   ]
  },
  {
   "cell_type": "code",
   "execution_count": 9,
   "id": "21a25d50-9a56-4836-bbda-bc4473f1c670",
   "metadata": {},
   "outputs": [
    {
     "name": "stdout",
     "output_type": "stream",
     "text": [
      "torch.Size([30, 20, 12, 1])\n",
      "gcn_out = torch.Size([30, 20, 12, 100])\n",
      "gcn_out = torch.Size([600, 12, 100])\n"
     ]
    }
   ],
   "source": [
    "# (batch_size, input_seq_len, num_nodes, in_feat)\n",
    "outputs = model(X)"
   ]
  },
  {
   "cell_type": "code",
   "execution_count": 10,
   "id": "405522a9-db3f-4262-9dd1-c8d505e93f53",
   "metadata": {},
   "outputs": [
    {
     "data": {
      "text/plain": [
       "torch.Size([20, 30, 12])"
      ]
     },
     "execution_count": 10,
     "metadata": {},
     "output_type": "execute_result"
    }
   ],
   "source": [
    "outputs.shape"
   ]
  },
  {
   "cell_type": "markdown",
   "id": "32f9d357-3744-4416-ba07-a5ea420c5c24",
   "metadata": {},
   "source": [
    "## LSTMGC Full"
   ]
  },
  {
   "cell_type": "code",
   "execution_count": 26,
   "id": "46a331f4-0d5c-49b7-8c9d-3856d81ed2ee",
   "metadata": {},
   "outputs": [],
   "source": [
    "adj_mx = np.array(torch.ones(30, 30))"
   ]
  },
  {
   "cell_type": "code",
   "execution_count": 27,
   "id": "791add8c-24e7-4a02-8265-33c26f4c8f1d",
   "metadata": {},
   "outputs": [],
   "source": [
    "model = make_model(DEVICE, in_channels=1, out_feat=1, hidden_feat=50, adj_mx=adj_mx, num_for_predict=12, len_input=12, num_of_vertices=30)"
   ]
  },
  {
   "cell_type": "code",
   "execution_count": 28,
   "id": "d3491cf6-e296-4614-ae59-04eb4f4c2752",
   "metadata": {},
   "outputs": [
    {
     "data": {
      "text/plain": [
       "LSTMGC_full_submodule(\n",
       "  (h_model): LSTMGC_submodule(\n",
       "    (graph_conv): GraphConv()\n",
       "    (lstm): LSTM(100, 50, num_layers=2, batch_first=True)\n",
       "    (dense): Linear(in_features=50, out_features=1, bias=True)\n",
       "  )\n",
       "  (d_model): LSTMGC_submodule(\n",
       "    (graph_conv): GraphConv()\n",
       "    (lstm): LSTM(100, 50, num_layers=2, batch_first=True)\n",
       "    (dense): Linear(in_features=50, out_features=1, bias=True)\n",
       "  )\n",
       "  (w_model): LSTMGC_submodule(\n",
       "    (graph_conv): GraphConv()\n",
       "    (lstm): LSTM(100, 50, num_layers=2, batch_first=True)\n",
       "    (dense): Linear(in_features=50, out_features=1, bias=True)\n",
       "  )\n",
       ")"
      ]
     },
     "execution_count": 28,
     "metadata": {},
     "output_type": "execute_result"
    }
   ],
   "source": [
    "model"
   ]
  },
  {
   "cell_type": "code",
   "execution_count": 29,
   "id": "345afa68-6d3c-4bae-bd78-94a346c6709f",
   "metadata": {},
   "outputs": [],
   "source": [
    "X = torch.rand((20, 3, 30, 1, 12))"
   ]
  },
  {
   "cell_type": "code",
   "execution_count": 30,
   "id": "71be9587-eb8c-4d88-8cdc-1f19a67baebe",
   "metadata": {},
   "outputs": [],
   "source": [
    "criterion = nn.L1Loss().to(DEVICE)\n",
    "optimizer = optim.Adam(model.parameters(), lr=0.001)"
   ]
  },
  {
   "cell_type": "code",
   "execution_count": 31,
   "id": "68515d38-82f5-424b-9614-7670a138b313",
   "metadata": {},
   "outputs": [
    {
     "data": {
      "text/plain": [
       "torch.Size([20, 3, 30, 1, 12])"
      ]
     },
     "execution_count": 31,
     "metadata": {},
     "output_type": "execute_result"
    }
   ],
   "source": [
    "X.shape"
   ]
  },
  {
   "cell_type": "code",
   "execution_count": 35,
   "id": "e93f93aa-5f4e-49a4-a91d-7a939d426b5f",
   "metadata": {},
   "outputs": [],
   "source": [
    "# (batch_size, input_seq_len, num_nodes, in_feat)\n",
    "x1 = X[:, 0, :, :, :].squeeze(dim=1)\n",
    "x2 = X[:, 1, :, :, :].squeeze(dim=1)\n",
    "x3 = X[:, 2, :, :, :].squeeze(dim=1)\n",
    "outputs = model(x1, x2, x3)"
   ]
  },
  {
   "cell_type": "code",
   "execution_count": 36,
   "id": "8e8bccaf-98c8-401f-9244-1d732162da16",
   "metadata": {},
   "outputs": [
    {
     "data": {
      "text/plain": [
       "torch.Size([20, 30, 12])"
      ]
     },
     "execution_count": 36,
     "metadata": {},
     "output_type": "execute_result"
    }
   ],
   "source": [
    "outputs.shape"
   ]
  }
 ],
 "metadata": {
  "kernelspec": {
   "display_name": "Python 3 (ipykernel)",
   "language": "python",
   "name": "python3"
  },
  "language_info": {
   "codemirror_mode": {
    "name": "ipython",
    "version": 3
   },
   "file_extension": ".py",
   "mimetype": "text/x-python",
   "name": "python",
   "nbconvert_exporter": "python",
   "pygments_lexer": "ipython3",
   "version": "3.9.12"
  }
 },
 "nbformat": 4,
 "nbformat_minor": 5
}
