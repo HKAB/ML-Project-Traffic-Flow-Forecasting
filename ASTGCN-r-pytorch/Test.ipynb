{
 "cells": [
  {
   "cell_type": "code",
   "execution_count": 19,
   "id": "e98dc079-5448-4465-83ec-18d6c91344ad",
   "metadata": {},
   "outputs": [],
   "source": [
    "from model.LSTM_r import make_model\n",
    "from model.ASTGCN_full_r import make_model\n",
    "import torch\n",
    "import torch.nn as nn\n",
    "import torch.optim as optim\n",
    "from lib.utils import get_adjacency_matrix\n",
    "import numpy as np"
   ]
  },
  {
   "cell_type": "code",
   "execution_count": 2,
   "id": "0d4eb66c-64f5-4074-b088-a85d6357c478",
   "metadata": {},
   "outputs": [
    {
     "name": "stdout",
     "output_type": "stream",
     "text": [
      "cpu\n"
     ]
    }
   ],
   "source": [
    "DEVICE = torch.device('cpu')\n",
    "print(DEVICE)"
   ]
  },
  {
   "cell_type": "markdown",
   "id": "2edd93c2-4d96-4d32-ac70-37918c9d3f5b",
   "metadata": {
    "tags": []
   },
   "source": [
    "## Test LSTM"
   ]
  },
  {
   "cell_type": "code",
   "execution_count": 3,
   "id": "92772b99-d75f-4bd1-a87d-121165155876",
   "metadata": {},
   "outputs": [],
   "source": [
    "model = make_model(DEVICE, 3, 100, 1)"
   ]
  },
  {
   "cell_type": "code",
   "execution_count": 4,
   "id": "82094a08-4947-4b45-b47b-35c50d8fe92e",
   "metadata": {},
   "outputs": [
    {
     "data": {
      "text/plain": [
       "LSTM_submodule(\n",
       "  (lstm): LSTM(3, 100)\n",
       "  (linear): Linear(in_features=100, out_features=1, bias=True)\n",
       ")"
      ]
     },
     "execution_count": 4,
     "metadata": {},
     "output_type": "execute_result"
    }
   ],
   "source": [
    "model"
   ]
  },
  {
   "cell_type": "code",
   "execution_count": 5,
   "id": "a4375aaf-438d-4550-ad0b-184dce9eb42c",
   "metadata": {},
   "outputs": [],
   "source": [
    "X_train = torch.rand((20, 30, 3, 12))\n",
    "y_train = torch.rand((20, 30, 3))"
   ]
  },
  {
   "cell_type": "code",
   "execution_count": 6,
   "id": "7fff06ec-5190-4b61-a42a-6698700a768e",
   "metadata": {},
   "outputs": [],
   "source": [
    "criterion = nn.L1Loss().to(DEVICE)\n",
    "optimizer = optim.Adam(model.parameters(), lr=0.001)"
   ]
  },
  {
   "cell_type": "code",
   "execution_count": 7,
   "id": "21d9a244-f0e4-467b-94c0-a0695ed5fa07",
   "metadata": {},
   "outputs": [],
   "source": [
    "outputs = model(X_train)"
   ]
  },
  {
   "cell_type": "code",
   "execution_count": 8,
   "id": "f005a289-07b0-425b-8909-3be32858c529",
   "metadata": {},
   "outputs": [
    {
     "data": {
      "text/plain": [
       "torch.Size([20, 30, 12])"
      ]
     },
     "execution_count": 8,
     "metadata": {},
     "output_type": "execute_result"
    }
   ],
   "source": [
    "outputs.shape"
   ]
  },
  {
   "cell_type": "markdown",
   "id": "d3a79e66-bd93-4463-a788-e327720b4d98",
   "metadata": {},
   "source": [
    "## Test ASTGCN"
   ]
  },
  {
   "cell_type": "code",
   "execution_count": 3,
   "id": "a1283964-8854-47a7-a971-027a7fb2f817",
   "metadata": {},
   "outputs": [],
   "source": [
    "# adj_mx, distance_mx = get_adjacency_matrix('./data/PEMS04/PEMS04.csv', \n",
    "#                                            307, None)"
   ]
  },
  {
   "cell_type": "code",
   "execution_count": 20,
   "id": "c9776f68-3383-4fc8-968b-78f9b7e21be6",
   "metadata": {},
   "outputs": [],
   "source": [
    "adj_mx = np.array(torch.eye(30))"
   ]
  },
  {
   "cell_type": "code",
   "execution_count": 21,
   "id": "9f225c19-25dc-421a-a62e-689db6c22239",
   "metadata": {},
   "outputs": [
    {
     "name": "stderr",
     "output_type": "stream",
     "text": [
      "C:\\Users\\truongnp3\\Desktop\\Course\\ML\\Project\\ML-Project-Traffic-Flow-Forecasting\\ASTGCN-r-pytorch\\lib\\utils.py:110: RuntimeWarning: invalid value encountered in true_divide\n",
      "  return (2 * L) / lambda_max - np.identity(W.shape[0])\n"
     ]
    }
   ],
   "source": [
    "# DEVICE, nb_block, in_channels, \n",
    "# K, nb_chev_filter, nb_time_filter, \n",
    "# time_strides, adj_mx, num_for_predict, \n",
    "# len_input, num_of_vertices):\n",
    "model = make_model(DEVICE, nb_block=2, in_channels=1, K=3, \n",
    "                  nb_chev_filter=64, nb_time_filter=64, \n",
    "                  time_strides=1, adj_mx=adj_mx, num_for_predict=12, \n",
    "                  len_input=12, num_of_vertices=30)"
   ]
  },
  {
   "cell_type": "code",
   "execution_count": 22,
   "id": "956f5cc0-00da-43e3-99b0-9cf11c5ef38c",
   "metadata": {},
   "outputs": [],
   "source": [
    "# (B, N_nodes, F_in, T_in)\n",
    "X_h_train = torch.rand((20, 30, 1, 12))\n",
    "X_d_train = torch.rand((20, 30, 1, 12))\n",
    "X_w_train = torch.rand((20, 30, 1, 12))\n",
    "y_train = torch.rand((20, 30, 1))"
   ]
  },
  {
   "cell_type": "code",
   "execution_count": 23,
   "id": "0ed55414-1b49-470e-9f14-6d73b53f7684",
   "metadata": {},
   "outputs": [],
   "source": [
    "criterion = nn.L1Loss().to(DEVICE)\n",
    "optimizer = optim.Adam(model.parameters(), lr=0.001)"
   ]
  },
  {
   "cell_type": "code",
   "execution_count": 24,
   "id": "58b4b1b2-a862-4c97-beb2-fa1fedb2a33f",
   "metadata": {},
   "outputs": [],
   "source": [
    "outputs = model(X_h_train, X_d_train, X_w_train)"
   ]
  },
  {
   "cell_type": "code",
   "execution_count": 25,
   "id": "4ca9202e-2748-4341-b200-ecbce6639f39",
   "metadata": {},
   "outputs": [
    {
     "data": {
      "text/plain": [
       "torch.Size([20, 30, 12])"
      ]
     },
     "execution_count": 25,
     "metadata": {},
     "output_type": "execute_result"
    }
   ],
   "source": [
    "outputs.shape"
   ]
  },
  {
   "cell_type": "code",
   "execution_count": 40,
   "id": "61afb9cb-6d59-4a86-9b15-434951e579db",
   "metadata": {},
   "outputs": [],
   "source": [
    "a = torch.ones((583, 307, 3, 12))\n",
    "b = torch.ones((583, 307, 3, 12)) + 1\n",
    "c = torch.ones((583, 307, 3, 12)) + 2"
   ]
  },
  {
   "cell_type": "code",
   "execution_count": 41,
   "id": "4a7c2675-67e3-4abc-a175-c22bb621fb16",
   "metadata": {},
   "outputs": [],
   "source": [
    "a = torch.unsqueeze(a, dim=1)\n",
    "b = torch.unsqueeze(b, dim=1)\n",
    "c = torch.unsqueeze(c, dim=1)"
   ]
  },
  {
   "cell_type": "code",
   "execution_count": 42,
   "id": "35b25345-122a-4fef-bcec-3346d4fbe378",
   "metadata": {},
   "outputs": [
    {
     "data": {
      "text/plain": [
       "(torch.Size([583, 1, 307, 3, 12]),\n",
       " torch.Size([583, 1, 307, 3, 12]),\n",
       " torch.Size([583, 1, 307, 3, 12]))"
      ]
     },
     "execution_count": 42,
     "metadata": {},
     "output_type": "execute_result"
    }
   ],
   "source": [
    "a.shape, b.shape, c.shape"
   ]
  },
  {
   "cell_type": "code",
   "execution_count": 47,
   "id": "b53a4b0e-9718-40b4-bb4f-33070459f93c",
   "metadata": {},
   "outputs": [],
   "source": [
    "d = torch.cat([a, b, c], dim=1)"
   ]
  },
  {
   "cell_type": "code",
   "execution_count": 48,
   "id": "78549137-9a8c-4b02-849d-d68f65a16697",
   "metadata": {},
   "outputs": [
    {
     "data": {
      "text/plain": [
       "tensor([[[[[1., 1., 1.,  ..., 1., 1., 1.],\n",
       "           [1., 1., 1.,  ..., 1., 1., 1.],\n",
       "           [1., 1., 1.,  ..., 1., 1., 1.]],\n",
       "\n",
       "          [[1., 1., 1.,  ..., 1., 1., 1.],\n",
       "           [1., 1., 1.,  ..., 1., 1., 1.],\n",
       "           [1., 1., 1.,  ..., 1., 1., 1.]],\n",
       "\n",
       "          [[1., 1., 1.,  ..., 1., 1., 1.],\n",
       "           [1., 1., 1.,  ..., 1., 1., 1.],\n",
       "           [1., 1., 1.,  ..., 1., 1., 1.]],\n",
       "\n",
       "          ...,\n",
       "\n",
       "          [[1., 1., 1.,  ..., 1., 1., 1.],\n",
       "           [1., 1., 1.,  ..., 1., 1., 1.],\n",
       "           [1., 1., 1.,  ..., 1., 1., 1.]],\n",
       "\n",
       "          [[1., 1., 1.,  ..., 1., 1., 1.],\n",
       "           [1., 1., 1.,  ..., 1., 1., 1.],\n",
       "           [1., 1., 1.,  ..., 1., 1., 1.]],\n",
       "\n",
       "          [[1., 1., 1.,  ..., 1., 1., 1.],\n",
       "           [1., 1., 1.,  ..., 1., 1., 1.],\n",
       "           [1., 1., 1.,  ..., 1., 1., 1.]]],\n",
       "\n",
       "\n",
       "         [[[2., 2., 2.,  ..., 2., 2., 2.],\n",
       "           [2., 2., 2.,  ..., 2., 2., 2.],\n",
       "           [2., 2., 2.,  ..., 2., 2., 2.]],\n",
       "\n",
       "          [[2., 2., 2.,  ..., 2., 2., 2.],\n",
       "           [2., 2., 2.,  ..., 2., 2., 2.],\n",
       "           [2., 2., 2.,  ..., 2., 2., 2.]],\n",
       "\n",
       "          [[2., 2., 2.,  ..., 2., 2., 2.],\n",
       "           [2., 2., 2.,  ..., 2., 2., 2.],\n",
       "           [2., 2., 2.,  ..., 2., 2., 2.]],\n",
       "\n",
       "          ...,\n",
       "\n",
       "          [[2., 2., 2.,  ..., 2., 2., 2.],\n",
       "           [2., 2., 2.,  ..., 2., 2., 2.],\n",
       "           [2., 2., 2.,  ..., 2., 2., 2.]],\n",
       "\n",
       "          [[2., 2., 2.,  ..., 2., 2., 2.],\n",
       "           [2., 2., 2.,  ..., 2., 2., 2.],\n",
       "           [2., 2., 2.,  ..., 2., 2., 2.]],\n",
       "\n",
       "          [[2., 2., 2.,  ..., 2., 2., 2.],\n",
       "           [2., 2., 2.,  ..., 2., 2., 2.],\n",
       "           [2., 2., 2.,  ..., 2., 2., 2.]]],\n",
       "\n",
       "\n",
       "         [[[3., 3., 3.,  ..., 3., 3., 3.],\n",
       "           [3., 3., 3.,  ..., 3., 3., 3.],\n",
       "           [3., 3., 3.,  ..., 3., 3., 3.]],\n",
       "\n",
       "          [[3., 3., 3.,  ..., 3., 3., 3.],\n",
       "           [3., 3., 3.,  ..., 3., 3., 3.],\n",
       "           [3., 3., 3.,  ..., 3., 3., 3.]],\n",
       "\n",
       "          [[3., 3., 3.,  ..., 3., 3., 3.],\n",
       "           [3., 3., 3.,  ..., 3., 3., 3.],\n",
       "           [3., 3., 3.,  ..., 3., 3., 3.]],\n",
       "\n",
       "          ...,\n",
       "\n",
       "          [[3., 3., 3.,  ..., 3., 3., 3.],\n",
       "           [3., 3., 3.,  ..., 3., 3., 3.],\n",
       "           [3., 3., 3.,  ..., 3., 3., 3.]],\n",
       "\n",
       "          [[3., 3., 3.,  ..., 3., 3., 3.],\n",
       "           [3., 3., 3.,  ..., 3., 3., 3.],\n",
       "           [3., 3., 3.,  ..., 3., 3., 3.]],\n",
       "\n",
       "          [[3., 3., 3.,  ..., 3., 3., 3.],\n",
       "           [3., 3., 3.,  ..., 3., 3., 3.],\n",
       "           [3., 3., 3.,  ..., 3., 3., 3.]]]]])"
      ]
     },
     "execution_count": 48,
     "metadata": {},
     "output_type": "execute_result"
    }
   ],
   "source": [
    "d[:1, :, :, :]"
   ]
  }
 ],
 "metadata": {
  "kernelspec": {
   "display_name": "Python 3 (ipykernel)",
   "language": "python",
   "name": "python3"
  },
  "language_info": {
   "codemirror_mode": {
    "name": "ipython",
    "version": 3
   },
   "file_extension": ".py",
   "mimetype": "text/x-python",
   "name": "python",
   "nbconvert_exporter": "python",
   "pygments_lexer": "ipython3",
   "version": "3.9.12"
  }
 },
 "nbformat": 4,
 "nbformat_minor": 5
}
