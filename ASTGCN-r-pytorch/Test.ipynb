{
 "cells": [
  {
   "cell_type": "code",
   "execution_count": 1,
   "id": "e98dc079-5448-4465-83ec-18d6c91344ad",
   "metadata": {},
   "outputs": [],
   "source": [
    "from model.LSTM_r import make_model\n",
    "import torch\n",
    "import torch.nn as nn\n",
    "import torch.optim as optim"
   ]
  },
  {
   "cell_type": "code",
   "execution_count": 2,
   "id": "0d4eb66c-64f5-4074-b088-a85d6357c478",
   "metadata": {},
   "outputs": [
    {
     "name": "stdout",
     "output_type": "stream",
     "text": [
      "cpu\n"
     ]
    }
   ],
   "source": [
    "DEVICE = torch.device('cpu')\n",
    "print(DEVICE)"
   ]
  },
  {
   "cell_type": "code",
   "execution_count": 3,
   "id": "92772b99-d75f-4bd1-a87d-121165155876",
   "metadata": {},
   "outputs": [],
   "source": [
    "model = make_model(DEVICE, 3, 100, 1)"
   ]
  },
  {
   "cell_type": "code",
   "execution_count": 4,
   "id": "82094a08-4947-4b45-b47b-35c50d8fe92e",
   "metadata": {},
   "outputs": [
    {
     "data": {
      "text/plain": [
       "LSTM_submodule(\n",
       "  (lstm): LSTM(3, 100)\n",
       "  (linear): Linear(in_features=100, out_features=1, bias=True)\n",
       ")"
      ]
     },
     "execution_count": 4,
     "metadata": {},
     "output_type": "execute_result"
    }
   ],
   "source": [
    "model"
   ]
  },
  {
   "cell_type": "code",
   "execution_count": 5,
   "id": "a4375aaf-438d-4550-ad0b-184dce9eb42c",
   "metadata": {},
   "outputs": [],
   "source": [
    "X_train = torch.rand((20, 30, 3, 12))\n",
    "y_train = torch.rand((20, 30, 3))"
   ]
  },
  {
   "cell_type": "code",
   "execution_count": 6,
   "id": "7fff06ec-5190-4b61-a42a-6698700a768e",
   "metadata": {},
   "outputs": [],
   "source": [
    "criterion = nn.L1Loss().to(DEVICE)\n",
    "optimizer = optim.Adam(model.parameters(), lr=0.001)"
   ]
  },
  {
   "cell_type": "code",
   "execution_count": 7,
   "id": "21d9a244-f0e4-467b-94c0-a0695ed5fa07",
   "metadata": {},
   "outputs": [],
   "source": [
    "outputs = model(X_train)"
   ]
  },
  {
   "cell_type": "code",
   "execution_count": 8,
   "id": "f005a289-07b0-425b-8909-3be32858c529",
   "metadata": {},
   "outputs": [
    {
     "data": {
      "text/plain": [
       "torch.Size([20, 30, 12])"
      ]
     },
     "execution_count": 8,
     "metadata": {},
     "output_type": "execute_result"
    }
   ],
   "source": [
    "outputs.shape"
   ]
  }
 ],
 "metadata": {
  "kernelspec": {
   "display_name": "Python 3 (ipykernel)",
   "language": "python",
   "name": "python3"
  },
  "language_info": {
   "codemirror_mode": {
    "name": "ipython",
    "version": 3
   },
   "file_extension": ".py",
   "mimetype": "text/x-python",
   "name": "python",
   "nbconvert_exporter": "python",
   "pygments_lexer": "ipython3",
   "version": "3.9.12"
  }
 },
 "nbformat": 4,
 "nbformat_minor": 5
}
